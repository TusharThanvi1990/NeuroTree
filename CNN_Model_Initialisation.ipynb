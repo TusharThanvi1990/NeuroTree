{
 "cells": [
  {
   "cell_type": "code",
   "execution_count": 1,
   "id": "beb7f5ab-1627-4913-9f4b-4115185d82d5",
   "metadata": {},
   "outputs": [],
   "source": [
    "import tensorflow as tf\n",
    "from tensorflow.keras import layers, models, Input\n",
    "from keras.regularizers import l2\n",
    "import h5py\n",
    "\n",
    "import pandas as pd\n",
    "import numpy as np"
   ]
  },
  {
   "cell_type": "code",
   "execution_count": 3,
   "id": "210ebb03-1c87-45be-b41d-f947e24d93c2",
   "metadata": {},
   "outputs": [
    {
     "name": "stdout",
     "output_type": "stream",
     "text": [
      "<keras.src.optimizers.adam.Adam object at 0x000002C55ECDFAA0>\n"
     ]
    }
   ],
   "source": [
    "eval_cnn = tf.keras.models.load_model('eval_cnn.keras')\n",
    "\n",
    "print(eval_cnn.optimizer)"
   ]
  },
  {
   "cell_type": "code",
   "execution_count": 16,
   "id": "5c0c3cf1-0f34-4a7a-9b71-e74b5295d9ee",
   "metadata": {},
   "outputs": [
    {
     "data": {
      "text/html": [
       "<pre style=\"white-space:pre;overflow-x:auto;line-height:normal;font-family:Menlo,'DejaVu Sans Mono',consolas,'Courier New',monospace\"><span style=\"font-weight: bold\">Model: \"Eval_CNN\"</span>\n",
       "</pre>\n"
      ],
      "text/plain": [
       "\u001b[1mModel: \"Eval_CNN\"\u001b[0m\n"
      ]
     },
     "metadata": {},
     "output_type": "display_data"
    },
    {
     "data": {
      "text/html": [
       "<pre style=\"white-space:pre;overflow-x:auto;line-height:normal;font-family:Menlo,'DejaVu Sans Mono',consolas,'Courier New',monospace\">┏━━━━━━━━━━━━━━━━━━━━━━━━━━━━━━━┳━━━━━━━━━━━━━━━━━━━━━━━━━━━┳━━━━━━━━━━━━━━━━━┳━━━━━━━━━━━━━━━━━━━━━━━━━━━━┓\n",
       "┃<span style=\"font-weight: bold\"> Layer (type)                  </span>┃<span style=\"font-weight: bold\"> Output Shape              </span>┃<span style=\"font-weight: bold\">         Param # </span>┃<span style=\"font-weight: bold\"> Connected to               </span>┃\n",
       "┡━━━━━━━━━━━━━━━━━━━━━━━━━━━━━━━╇━━━━━━━━━━━━━━━━━━━━━━━━━━━╇━━━━━━━━━━━━━━━━━╇━━━━━━━━━━━━━━━━━━━━━━━━━━━━┩\n",
       "│ board_input (<span style=\"color: #0087ff; text-decoration-color: #0087ff\">InputLayer</span>)      │ (<span style=\"color: #00d7ff; text-decoration-color: #00d7ff\">None</span>, <span style=\"color: #00af00; text-decoration-color: #00af00\">8</span>, <span style=\"color: #00af00; text-decoration-color: #00af00\">8</span>, <span style=\"color: #00af00; text-decoration-color: #00af00\">19</span>)          │               <span style=\"color: #00af00; text-decoration-color: #00af00\">0</span> │ -                          │\n",
       "├───────────────────────────────┼───────────────────────────┼─────────────────┼────────────────────────────┤\n",
       "│ conv2d_36 (<span style=\"color: #0087ff; text-decoration-color: #0087ff\">Conv2D</span>)            │ (<span style=\"color: #00d7ff; text-decoration-color: #00d7ff\">None</span>, <span style=\"color: #00af00; text-decoration-color: #00af00\">8</span>, <span style=\"color: #00af00; text-decoration-color: #00af00\">8</span>, <span style=\"color: #00af00; text-decoration-color: #00af00\">128</span>)         │          <span style=\"color: #00af00; text-decoration-color: #00af00\">22,016</span> │ board_input[<span style=\"color: #00af00; text-decoration-color: #00af00\">0</span>][<span style=\"color: #00af00; text-decoration-color: #00af00\">0</span>]          │\n",
       "├───────────────────────────────┼───────────────────────────┼─────────────────┼────────────────────────────┤\n",
       "│ batch_normalization_24        │ (<span style=\"color: #00d7ff; text-decoration-color: #00d7ff\">None</span>, <span style=\"color: #00af00; text-decoration-color: #00af00\">8</span>, <span style=\"color: #00af00; text-decoration-color: #00af00\">8</span>, <span style=\"color: #00af00; text-decoration-color: #00af00\">128</span>)         │             <span style=\"color: #00af00; text-decoration-color: #00af00\">512</span> │ conv2d_36[<span style=\"color: #00af00; text-decoration-color: #00af00\">0</span>][<span style=\"color: #00af00; text-decoration-color: #00af00\">0</span>]            │\n",
       "│ (<span style=\"color: #0087ff; text-decoration-color: #0087ff\">BatchNormalization</span>)          │                           │                 │                            │\n",
       "├───────────────────────────────┼───────────────────────────┼─────────────────┼────────────────────────────┤\n",
       "│ conv2d_38 (<span style=\"color: #0087ff; text-decoration-color: #0087ff\">Conv2D</span>)            │ (<span style=\"color: #00d7ff; text-decoration-color: #00d7ff\">None</span>, <span style=\"color: #00af00; text-decoration-color: #00af00\">8</span>, <span style=\"color: #00af00; text-decoration-color: #00af00\">8</span>, <span style=\"color: #00af00; text-decoration-color: #00af00\">128</span>)         │         <span style=\"color: #00af00; text-decoration-color: #00af00\">147,584</span> │ batch_normalization_24[<span style=\"color: #00af00; text-decoration-color: #00af00\">0</span>]… │\n",
       "├───────────────────────────────┼───────────────────────────┼─────────────────┼────────────────────────────┤\n",
       "│ batch_normalization_25        │ (<span style=\"color: #00d7ff; text-decoration-color: #00d7ff\">None</span>, <span style=\"color: #00af00; text-decoration-color: #00af00\">8</span>, <span style=\"color: #00af00; text-decoration-color: #00af00\">8</span>, <span style=\"color: #00af00; text-decoration-color: #00af00\">128</span>)         │             <span style=\"color: #00af00; text-decoration-color: #00af00\">512</span> │ conv2d_38[<span style=\"color: #00af00; text-decoration-color: #00af00\">0</span>][<span style=\"color: #00af00; text-decoration-color: #00af00\">0</span>]            │\n",
       "│ (<span style=\"color: #0087ff; text-decoration-color: #0087ff\">BatchNormalization</span>)          │                           │                 │                            │\n",
       "├───────────────────────────────┼───────────────────────────┼─────────────────┼────────────────────────────┤\n",
       "│ conv2d_37 (<span style=\"color: #0087ff; text-decoration-color: #0087ff\">Conv2D</span>)            │ (<span style=\"color: #00d7ff; text-decoration-color: #00d7ff\">None</span>, <span style=\"color: #00af00; text-decoration-color: #00af00\">8</span>, <span style=\"color: #00af00; text-decoration-color: #00af00\">8</span>, <span style=\"color: #00af00; text-decoration-color: #00af00\">128</span>)         │          <span style=\"color: #00af00; text-decoration-color: #00af00\">16,512</span> │ batch_normalization_24[<span style=\"color: #00af00; text-decoration-color: #00af00\">0</span>]… │\n",
       "├───────────────────────────────┼───────────────────────────┼─────────────────┼────────────────────────────┤\n",
       "│ add_12 (<span style=\"color: #0087ff; text-decoration-color: #0087ff\">Add</span>)                  │ (<span style=\"color: #00d7ff; text-decoration-color: #00d7ff\">None</span>, <span style=\"color: #00af00; text-decoration-color: #00af00\">8</span>, <span style=\"color: #00af00; text-decoration-color: #00af00\">8</span>, <span style=\"color: #00af00; text-decoration-color: #00af00\">128</span>)         │               <span style=\"color: #00af00; text-decoration-color: #00af00\">0</span> │ batch_normalization_25[<span style=\"color: #00af00; text-decoration-color: #00af00\">0</span>]… │\n",
       "│                               │                           │                 │ conv2d_37[<span style=\"color: #00af00; text-decoration-color: #00af00\">0</span>][<span style=\"color: #00af00; text-decoration-color: #00af00\">0</span>]            │\n",
       "├───────────────────────────────┼───────────────────────────┼─────────────────┼────────────────────────────┤\n",
       "│ activation_12 (<span style=\"color: #0087ff; text-decoration-color: #0087ff\">Activation</span>)    │ (<span style=\"color: #00d7ff; text-decoration-color: #00d7ff\">None</span>, <span style=\"color: #00af00; text-decoration-color: #00af00\">8</span>, <span style=\"color: #00af00; text-decoration-color: #00af00\">8</span>, <span style=\"color: #00af00; text-decoration-color: #00af00\">128</span>)         │               <span style=\"color: #00af00; text-decoration-color: #00af00\">0</span> │ add_12[<span style=\"color: #00af00; text-decoration-color: #00af00\">0</span>][<span style=\"color: #00af00; text-decoration-color: #00af00\">0</span>]               │\n",
       "├───────────────────────────────┼───────────────────────────┼─────────────────┼────────────────────────────┤\n",
       "│ dropout_20 (<span style=\"color: #0087ff; text-decoration-color: #0087ff\">Dropout</span>)          │ (<span style=\"color: #00d7ff; text-decoration-color: #00d7ff\">None</span>, <span style=\"color: #00af00; text-decoration-color: #00af00\">8</span>, <span style=\"color: #00af00; text-decoration-color: #00af00\">8</span>, <span style=\"color: #00af00; text-decoration-color: #00af00\">128</span>)         │               <span style=\"color: #00af00; text-decoration-color: #00af00\">0</span> │ activation_12[<span style=\"color: #00af00; text-decoration-color: #00af00\">0</span>][<span style=\"color: #00af00; text-decoration-color: #00af00\">0</span>]        │\n",
       "├───────────────────────────────┼───────────────────────────┼─────────────────┼────────────────────────────┤\n",
       "│ conv2d_39 (<span style=\"color: #0087ff; text-decoration-color: #0087ff\">Conv2D</span>)            │ (<span style=\"color: #00d7ff; text-decoration-color: #00d7ff\">None</span>, <span style=\"color: #00af00; text-decoration-color: #00af00\">8</span>, <span style=\"color: #00af00; text-decoration-color: #00af00\">8</span>, <span style=\"color: #00af00; text-decoration-color: #00af00\">256</span>)         │         <span style=\"color: #00af00; text-decoration-color: #00af00\">295,168</span> │ dropout_20[<span style=\"color: #00af00; text-decoration-color: #00af00\">0</span>][<span style=\"color: #00af00; text-decoration-color: #00af00\">0</span>]           │\n",
       "├───────────────────────────────┼───────────────────────────┼─────────────────┼────────────────────────────┤\n",
       "│ batch_normalization_26        │ (<span style=\"color: #00d7ff; text-decoration-color: #00d7ff\">None</span>, <span style=\"color: #00af00; text-decoration-color: #00af00\">8</span>, <span style=\"color: #00af00; text-decoration-color: #00af00\">8</span>, <span style=\"color: #00af00; text-decoration-color: #00af00\">256</span>)         │           <span style=\"color: #00af00; text-decoration-color: #00af00\">1,024</span> │ conv2d_39[<span style=\"color: #00af00; text-decoration-color: #00af00\">0</span>][<span style=\"color: #00af00; text-decoration-color: #00af00\">0</span>]            │\n",
       "│ (<span style=\"color: #0087ff; text-decoration-color: #0087ff\">BatchNormalization</span>)          │                           │                 │                            │\n",
       "├───────────────────────────────┼───────────────────────────┼─────────────────┼────────────────────────────┤\n",
       "│ conv2d_41 (<span style=\"color: #0087ff; text-decoration-color: #0087ff\">Conv2D</span>)            │ (<span style=\"color: #00d7ff; text-decoration-color: #00d7ff\">None</span>, <span style=\"color: #00af00; text-decoration-color: #00af00\">8</span>, <span style=\"color: #00af00; text-decoration-color: #00af00\">8</span>, <span style=\"color: #00af00; text-decoration-color: #00af00\">256</span>)         │         <span style=\"color: #00af00; text-decoration-color: #00af00\">590,080</span> │ batch_normalization_26[<span style=\"color: #00af00; text-decoration-color: #00af00\">0</span>]… │\n",
       "├───────────────────────────────┼───────────────────────────┼─────────────────┼────────────────────────────┤\n",
       "│ batch_normalization_27        │ (<span style=\"color: #00d7ff; text-decoration-color: #00d7ff\">None</span>, <span style=\"color: #00af00; text-decoration-color: #00af00\">8</span>, <span style=\"color: #00af00; text-decoration-color: #00af00\">8</span>, <span style=\"color: #00af00; text-decoration-color: #00af00\">256</span>)         │           <span style=\"color: #00af00; text-decoration-color: #00af00\">1,024</span> │ conv2d_41[<span style=\"color: #00af00; text-decoration-color: #00af00\">0</span>][<span style=\"color: #00af00; text-decoration-color: #00af00\">0</span>]            │\n",
       "│ (<span style=\"color: #0087ff; text-decoration-color: #0087ff\">BatchNormalization</span>)          │                           │                 │                            │\n",
       "├───────────────────────────────┼───────────────────────────┼─────────────────┼────────────────────────────┤\n",
       "│ conv2d_40 (<span style=\"color: #0087ff; text-decoration-color: #0087ff\">Conv2D</span>)            │ (<span style=\"color: #00d7ff; text-decoration-color: #00d7ff\">None</span>, <span style=\"color: #00af00; text-decoration-color: #00af00\">8</span>, <span style=\"color: #00af00; text-decoration-color: #00af00\">8</span>, <span style=\"color: #00af00; text-decoration-color: #00af00\">256</span>)         │          <span style=\"color: #00af00; text-decoration-color: #00af00\">65,792</span> │ batch_normalization_26[<span style=\"color: #00af00; text-decoration-color: #00af00\">0</span>]… │\n",
       "├───────────────────────────────┼───────────────────────────┼─────────────────┼────────────────────────────┤\n",
       "│ add_13 (<span style=\"color: #0087ff; text-decoration-color: #0087ff\">Add</span>)                  │ (<span style=\"color: #00d7ff; text-decoration-color: #00d7ff\">None</span>, <span style=\"color: #00af00; text-decoration-color: #00af00\">8</span>, <span style=\"color: #00af00; text-decoration-color: #00af00\">8</span>, <span style=\"color: #00af00; text-decoration-color: #00af00\">256</span>)         │               <span style=\"color: #00af00; text-decoration-color: #00af00\">0</span> │ batch_normalization_27[<span style=\"color: #00af00; text-decoration-color: #00af00\">0</span>]… │\n",
       "│                               │                           │                 │ conv2d_40[<span style=\"color: #00af00; text-decoration-color: #00af00\">0</span>][<span style=\"color: #00af00; text-decoration-color: #00af00\">0</span>]            │\n",
       "├───────────────────────────────┼───────────────────────────┼─────────────────┼────────────────────────────┤\n",
       "│ activation_13 (<span style=\"color: #0087ff; text-decoration-color: #0087ff\">Activation</span>)    │ (<span style=\"color: #00d7ff; text-decoration-color: #00d7ff\">None</span>, <span style=\"color: #00af00; text-decoration-color: #00af00\">8</span>, <span style=\"color: #00af00; text-decoration-color: #00af00\">8</span>, <span style=\"color: #00af00; text-decoration-color: #00af00\">256</span>)         │               <span style=\"color: #00af00; text-decoration-color: #00af00\">0</span> │ add_13[<span style=\"color: #00af00; text-decoration-color: #00af00\">0</span>][<span style=\"color: #00af00; text-decoration-color: #00af00\">0</span>]               │\n",
       "├───────────────────────────────┼───────────────────────────┼─────────────────┼────────────────────────────┤\n",
       "│ dropout_21 (<span style=\"color: #0087ff; text-decoration-color: #0087ff\">Dropout</span>)          │ (<span style=\"color: #00d7ff; text-decoration-color: #00d7ff\">None</span>, <span style=\"color: #00af00; text-decoration-color: #00af00\">8</span>, <span style=\"color: #00af00; text-decoration-color: #00af00\">8</span>, <span style=\"color: #00af00; text-decoration-color: #00af00\">256</span>)         │               <span style=\"color: #00af00; text-decoration-color: #00af00\">0</span> │ activation_13[<span style=\"color: #00af00; text-decoration-color: #00af00\">0</span>][<span style=\"color: #00af00; text-decoration-color: #00af00\">0</span>]        │\n",
       "├───────────────────────────────┼───────────────────────────┼─────────────────┼────────────────────────────┤\n",
       "│ conv2d_42 (<span style=\"color: #0087ff; text-decoration-color: #0087ff\">Conv2D</span>)            │ (<span style=\"color: #00d7ff; text-decoration-color: #00d7ff\">None</span>, <span style=\"color: #00af00; text-decoration-color: #00af00\">8</span>, <span style=\"color: #00af00; text-decoration-color: #00af00\">8</span>, <span style=\"color: #00af00; text-decoration-color: #00af00\">512</span>)         │       <span style=\"color: #00af00; text-decoration-color: #00af00\">1,180,160</span> │ dropout_21[<span style=\"color: #00af00; text-decoration-color: #00af00\">0</span>][<span style=\"color: #00af00; text-decoration-color: #00af00\">0</span>]           │\n",
       "├───────────────────────────────┼───────────────────────────┼─────────────────┼────────────────────────────┤\n",
       "│ batch_normalization_28        │ (<span style=\"color: #00d7ff; text-decoration-color: #00d7ff\">None</span>, <span style=\"color: #00af00; text-decoration-color: #00af00\">8</span>, <span style=\"color: #00af00; text-decoration-color: #00af00\">8</span>, <span style=\"color: #00af00; text-decoration-color: #00af00\">512</span>)         │           <span style=\"color: #00af00; text-decoration-color: #00af00\">2,048</span> │ conv2d_42[<span style=\"color: #00af00; text-decoration-color: #00af00\">0</span>][<span style=\"color: #00af00; text-decoration-color: #00af00\">0</span>]            │\n",
       "│ (<span style=\"color: #0087ff; text-decoration-color: #0087ff\">BatchNormalization</span>)          │                           │                 │                            │\n",
       "├───────────────────────────────┼───────────────────────────┼─────────────────┼────────────────────────────┤\n",
       "│ conv2d_44 (<span style=\"color: #0087ff; text-decoration-color: #0087ff\">Conv2D</span>)            │ (<span style=\"color: #00d7ff; text-decoration-color: #00d7ff\">None</span>, <span style=\"color: #00af00; text-decoration-color: #00af00\">8</span>, <span style=\"color: #00af00; text-decoration-color: #00af00\">8</span>, <span style=\"color: #00af00; text-decoration-color: #00af00\">512</span>)         │       <span style=\"color: #00af00; text-decoration-color: #00af00\">2,359,808</span> │ batch_normalization_28[<span style=\"color: #00af00; text-decoration-color: #00af00\">0</span>]… │\n",
       "├───────────────────────────────┼───────────────────────────┼─────────────────┼────────────────────────────┤\n",
       "│ batch_normalization_29        │ (<span style=\"color: #00d7ff; text-decoration-color: #00d7ff\">None</span>, <span style=\"color: #00af00; text-decoration-color: #00af00\">8</span>, <span style=\"color: #00af00; text-decoration-color: #00af00\">8</span>, <span style=\"color: #00af00; text-decoration-color: #00af00\">512</span>)         │           <span style=\"color: #00af00; text-decoration-color: #00af00\">2,048</span> │ conv2d_44[<span style=\"color: #00af00; text-decoration-color: #00af00\">0</span>][<span style=\"color: #00af00; text-decoration-color: #00af00\">0</span>]            │\n",
       "│ (<span style=\"color: #0087ff; text-decoration-color: #0087ff\">BatchNormalization</span>)          │                           │                 │                            │\n",
       "├───────────────────────────────┼───────────────────────────┼─────────────────┼────────────────────────────┤\n",
       "│ conv2d_43 (<span style=\"color: #0087ff; text-decoration-color: #0087ff\">Conv2D</span>)            │ (<span style=\"color: #00d7ff; text-decoration-color: #00d7ff\">None</span>, <span style=\"color: #00af00; text-decoration-color: #00af00\">8</span>, <span style=\"color: #00af00; text-decoration-color: #00af00\">8</span>, <span style=\"color: #00af00; text-decoration-color: #00af00\">512</span>)         │         <span style=\"color: #00af00; text-decoration-color: #00af00\">262,656</span> │ batch_normalization_28[<span style=\"color: #00af00; text-decoration-color: #00af00\">0</span>]… │\n",
       "├───────────────────────────────┼───────────────────────────┼─────────────────┼────────────────────────────┤\n",
       "│ add_14 (<span style=\"color: #0087ff; text-decoration-color: #0087ff\">Add</span>)                  │ (<span style=\"color: #00d7ff; text-decoration-color: #00d7ff\">None</span>, <span style=\"color: #00af00; text-decoration-color: #00af00\">8</span>, <span style=\"color: #00af00; text-decoration-color: #00af00\">8</span>, <span style=\"color: #00af00; text-decoration-color: #00af00\">512</span>)         │               <span style=\"color: #00af00; text-decoration-color: #00af00\">0</span> │ batch_normalization_29[<span style=\"color: #00af00; text-decoration-color: #00af00\">0</span>]… │\n",
       "│                               │                           │                 │ conv2d_43[<span style=\"color: #00af00; text-decoration-color: #00af00\">0</span>][<span style=\"color: #00af00; text-decoration-color: #00af00\">0</span>]            │\n",
       "├───────────────────────────────┼───────────────────────────┼─────────────────┼────────────────────────────┤\n",
       "│ activation_14 (<span style=\"color: #0087ff; text-decoration-color: #0087ff\">Activation</span>)    │ (<span style=\"color: #00d7ff; text-decoration-color: #00d7ff\">None</span>, <span style=\"color: #00af00; text-decoration-color: #00af00\">8</span>, <span style=\"color: #00af00; text-decoration-color: #00af00\">8</span>, <span style=\"color: #00af00; text-decoration-color: #00af00\">512</span>)         │               <span style=\"color: #00af00; text-decoration-color: #00af00\">0</span> │ add_14[<span style=\"color: #00af00; text-decoration-color: #00af00\">0</span>][<span style=\"color: #00af00; text-decoration-color: #00af00\">0</span>]               │\n",
       "├───────────────────────────────┼───────────────────────────┼─────────────────┼────────────────────────────┤\n",
       "│ global_average_pooling2d_4    │ (<span style=\"color: #00d7ff; text-decoration-color: #00d7ff\">None</span>, <span style=\"color: #00af00; text-decoration-color: #00af00\">512</span>)               │               <span style=\"color: #00af00; text-decoration-color: #00af00\">0</span> │ activation_14[<span style=\"color: #00af00; text-decoration-color: #00af00\">0</span>][<span style=\"color: #00af00; text-decoration-color: #00af00\">0</span>]        │\n",
       "│ (<span style=\"color: #0087ff; text-decoration-color: #0087ff\">GlobalAveragePooling2D</span>)      │                           │                 │                            │\n",
       "├───────────────────────────────┼───────────────────────────┼─────────────────┼────────────────────────────┤\n",
       "│ dropout_22 (<span style=\"color: #0087ff; text-decoration-color: #0087ff\">Dropout</span>)          │ (<span style=\"color: #00d7ff; text-decoration-color: #00d7ff\">None</span>, <span style=\"color: #00af00; text-decoration-color: #00af00\">512</span>)               │               <span style=\"color: #00af00; text-decoration-color: #00af00\">0</span> │ global_average_pooling2d_… │\n",
       "├───────────────────────────────┼───────────────────────────┼─────────────────┼────────────────────────────┤\n",
       "│ dense_8 (<span style=\"color: #0087ff; text-decoration-color: #0087ff\">Dense</span>)               │ (<span style=\"color: #00d7ff; text-decoration-color: #00d7ff\">None</span>, <span style=\"color: #00af00; text-decoration-color: #00af00\">1024</span>)              │         <span style=\"color: #00af00; text-decoration-color: #00af00\">525,312</span> │ dropout_22[<span style=\"color: #00af00; text-decoration-color: #00af00\">0</span>][<span style=\"color: #00af00; text-decoration-color: #00af00\">0</span>]           │\n",
       "├───────────────────────────────┼───────────────────────────┼─────────────────┼────────────────────────────┤\n",
       "│ dropout_23 (<span style=\"color: #0087ff; text-decoration-color: #0087ff\">Dropout</span>)          │ (<span style=\"color: #00d7ff; text-decoration-color: #00d7ff\">None</span>, <span style=\"color: #00af00; text-decoration-color: #00af00\">1024</span>)              │               <span style=\"color: #00af00; text-decoration-color: #00af00\">0</span> │ dense_8[<span style=\"color: #00af00; text-decoration-color: #00af00\">0</span>][<span style=\"color: #00af00; text-decoration-color: #00af00\">0</span>]              │\n",
       "├───────────────────────────────┼───────────────────────────┼─────────────────┼────────────────────────────┤\n",
       "│ dense_9 (<span style=\"color: #0087ff; text-decoration-color: #0087ff\">Dense</span>)               │ (<span style=\"color: #00d7ff; text-decoration-color: #00d7ff\">None</span>, <span style=\"color: #00af00; text-decoration-color: #00af00\">512</span>)               │         <span style=\"color: #00af00; text-decoration-color: #00af00\">524,800</span> │ dropout_23[<span style=\"color: #00af00; text-decoration-color: #00af00\">0</span>][<span style=\"color: #00af00; text-decoration-color: #00af00\">0</span>]           │\n",
       "├───────────────────────────────┼───────────────────────────┼─────────────────┼────────────────────────────┤\n",
       "│ dropout_24 (<span style=\"color: #0087ff; text-decoration-color: #0087ff\">Dropout</span>)          │ (<span style=\"color: #00d7ff; text-decoration-color: #00d7ff\">None</span>, <span style=\"color: #00af00; text-decoration-color: #00af00\">512</span>)               │               <span style=\"color: #00af00; text-decoration-color: #00af00\">0</span> │ dense_9[<span style=\"color: #00af00; text-decoration-color: #00af00\">0</span>][<span style=\"color: #00af00; text-decoration-color: #00af00\">0</span>]              │\n",
       "├───────────────────────────────┼───────────────────────────┼─────────────────┼────────────────────────────┤\n",
       "│ eval_output (<span style=\"color: #0087ff; text-decoration-color: #0087ff\">Dense</span>)           │ (<span style=\"color: #00d7ff; text-decoration-color: #00d7ff\">None</span>, <span style=\"color: #00af00; text-decoration-color: #00af00\">1</span>)                 │             <span style=\"color: #00af00; text-decoration-color: #00af00\">513</span> │ dropout_24[<span style=\"color: #00af00; text-decoration-color: #00af00\">0</span>][<span style=\"color: #00af00; text-decoration-color: #00af00\">0</span>]           │\n",
       "└───────────────────────────────┴───────────────────────────┴─────────────────┴────────────────────────────┘\n",
       "</pre>\n"
      ],
      "text/plain": [
       "┏━━━━━━━━━━━━━━━━━━━━━━━━━━━━━━━┳━━━━━━━━━━━━━━━━━━━━━━━━━━━┳━━━━━━━━━━━━━━━━━┳━━━━━━━━━━━━━━━━━━━━━━━━━━━━┓\n",
       "┃\u001b[1m \u001b[0m\u001b[1mLayer (type)                 \u001b[0m\u001b[1m \u001b[0m┃\u001b[1m \u001b[0m\u001b[1mOutput Shape             \u001b[0m\u001b[1m \u001b[0m┃\u001b[1m \u001b[0m\u001b[1m        Param #\u001b[0m\u001b[1m \u001b[0m┃\u001b[1m \u001b[0m\u001b[1mConnected to              \u001b[0m\u001b[1m \u001b[0m┃\n",
       "┡━━━━━━━━━━━━━━━━━━━━━━━━━━━━━━━╇━━━━━━━━━━━━━━━━━━━━━━━━━━━╇━━━━━━━━━━━━━━━━━╇━━━━━━━━━━━━━━━━━━━━━━━━━━━━┩\n",
       "│ board_input (\u001b[38;5;33mInputLayer\u001b[0m)      │ (\u001b[38;5;45mNone\u001b[0m, \u001b[38;5;34m8\u001b[0m, \u001b[38;5;34m8\u001b[0m, \u001b[38;5;34m19\u001b[0m)          │               \u001b[38;5;34m0\u001b[0m │ -                          │\n",
       "├───────────────────────────────┼───────────────────────────┼─────────────────┼────────────────────────────┤\n",
       "│ conv2d_36 (\u001b[38;5;33mConv2D\u001b[0m)            │ (\u001b[38;5;45mNone\u001b[0m, \u001b[38;5;34m8\u001b[0m, \u001b[38;5;34m8\u001b[0m, \u001b[38;5;34m128\u001b[0m)         │          \u001b[38;5;34m22,016\u001b[0m │ board_input[\u001b[38;5;34m0\u001b[0m][\u001b[38;5;34m0\u001b[0m]          │\n",
       "├───────────────────────────────┼───────────────────────────┼─────────────────┼────────────────────────────┤\n",
       "│ batch_normalization_24        │ (\u001b[38;5;45mNone\u001b[0m, \u001b[38;5;34m8\u001b[0m, \u001b[38;5;34m8\u001b[0m, \u001b[38;5;34m128\u001b[0m)         │             \u001b[38;5;34m512\u001b[0m │ conv2d_36[\u001b[38;5;34m0\u001b[0m][\u001b[38;5;34m0\u001b[0m]            │\n",
       "│ (\u001b[38;5;33mBatchNormalization\u001b[0m)          │                           │                 │                            │\n",
       "├───────────────────────────────┼───────────────────────────┼─────────────────┼────────────────────────────┤\n",
       "│ conv2d_38 (\u001b[38;5;33mConv2D\u001b[0m)            │ (\u001b[38;5;45mNone\u001b[0m, \u001b[38;5;34m8\u001b[0m, \u001b[38;5;34m8\u001b[0m, \u001b[38;5;34m128\u001b[0m)         │         \u001b[38;5;34m147,584\u001b[0m │ batch_normalization_24[\u001b[38;5;34m0\u001b[0m]… │\n",
       "├───────────────────────────────┼───────────────────────────┼─────────────────┼────────────────────────────┤\n",
       "│ batch_normalization_25        │ (\u001b[38;5;45mNone\u001b[0m, \u001b[38;5;34m8\u001b[0m, \u001b[38;5;34m8\u001b[0m, \u001b[38;5;34m128\u001b[0m)         │             \u001b[38;5;34m512\u001b[0m │ conv2d_38[\u001b[38;5;34m0\u001b[0m][\u001b[38;5;34m0\u001b[0m]            │\n",
       "│ (\u001b[38;5;33mBatchNormalization\u001b[0m)          │                           │                 │                            │\n",
       "├───────────────────────────────┼───────────────────────────┼─────────────────┼────────────────────────────┤\n",
       "│ conv2d_37 (\u001b[38;5;33mConv2D\u001b[0m)            │ (\u001b[38;5;45mNone\u001b[0m, \u001b[38;5;34m8\u001b[0m, \u001b[38;5;34m8\u001b[0m, \u001b[38;5;34m128\u001b[0m)         │          \u001b[38;5;34m16,512\u001b[0m │ batch_normalization_24[\u001b[38;5;34m0\u001b[0m]… │\n",
       "├───────────────────────────────┼───────────────────────────┼─────────────────┼────────────────────────────┤\n",
       "│ add_12 (\u001b[38;5;33mAdd\u001b[0m)                  │ (\u001b[38;5;45mNone\u001b[0m, \u001b[38;5;34m8\u001b[0m, \u001b[38;5;34m8\u001b[0m, \u001b[38;5;34m128\u001b[0m)         │               \u001b[38;5;34m0\u001b[0m │ batch_normalization_25[\u001b[38;5;34m0\u001b[0m]… │\n",
       "│                               │                           │                 │ conv2d_37[\u001b[38;5;34m0\u001b[0m][\u001b[38;5;34m0\u001b[0m]            │\n",
       "├───────────────────────────────┼───────────────────────────┼─────────────────┼────────────────────────────┤\n",
       "│ activation_12 (\u001b[38;5;33mActivation\u001b[0m)    │ (\u001b[38;5;45mNone\u001b[0m, \u001b[38;5;34m8\u001b[0m, \u001b[38;5;34m8\u001b[0m, \u001b[38;5;34m128\u001b[0m)         │               \u001b[38;5;34m0\u001b[0m │ add_12[\u001b[38;5;34m0\u001b[0m][\u001b[38;5;34m0\u001b[0m]               │\n",
       "├───────────────────────────────┼───────────────────────────┼─────────────────┼────────────────────────────┤\n",
       "│ dropout_20 (\u001b[38;5;33mDropout\u001b[0m)          │ (\u001b[38;5;45mNone\u001b[0m, \u001b[38;5;34m8\u001b[0m, \u001b[38;5;34m8\u001b[0m, \u001b[38;5;34m128\u001b[0m)         │               \u001b[38;5;34m0\u001b[0m │ activation_12[\u001b[38;5;34m0\u001b[0m][\u001b[38;5;34m0\u001b[0m]        │\n",
       "├───────────────────────────────┼───────────────────────────┼─────────────────┼────────────────────────────┤\n",
       "│ conv2d_39 (\u001b[38;5;33mConv2D\u001b[0m)            │ (\u001b[38;5;45mNone\u001b[0m, \u001b[38;5;34m8\u001b[0m, \u001b[38;5;34m8\u001b[0m, \u001b[38;5;34m256\u001b[0m)         │         \u001b[38;5;34m295,168\u001b[0m │ dropout_20[\u001b[38;5;34m0\u001b[0m][\u001b[38;5;34m0\u001b[0m]           │\n",
       "├───────────────────────────────┼───────────────────────────┼─────────────────┼────────────────────────────┤\n",
       "│ batch_normalization_26        │ (\u001b[38;5;45mNone\u001b[0m, \u001b[38;5;34m8\u001b[0m, \u001b[38;5;34m8\u001b[0m, \u001b[38;5;34m256\u001b[0m)         │           \u001b[38;5;34m1,024\u001b[0m │ conv2d_39[\u001b[38;5;34m0\u001b[0m][\u001b[38;5;34m0\u001b[0m]            │\n",
       "│ (\u001b[38;5;33mBatchNormalization\u001b[0m)          │                           │                 │                            │\n",
       "├───────────────────────────────┼───────────────────────────┼─────────────────┼────────────────────────────┤\n",
       "│ conv2d_41 (\u001b[38;5;33mConv2D\u001b[0m)            │ (\u001b[38;5;45mNone\u001b[0m, \u001b[38;5;34m8\u001b[0m, \u001b[38;5;34m8\u001b[0m, \u001b[38;5;34m256\u001b[0m)         │         \u001b[38;5;34m590,080\u001b[0m │ batch_normalization_26[\u001b[38;5;34m0\u001b[0m]… │\n",
       "├───────────────────────────────┼───────────────────────────┼─────────────────┼────────────────────────────┤\n",
       "│ batch_normalization_27        │ (\u001b[38;5;45mNone\u001b[0m, \u001b[38;5;34m8\u001b[0m, \u001b[38;5;34m8\u001b[0m, \u001b[38;5;34m256\u001b[0m)         │           \u001b[38;5;34m1,024\u001b[0m │ conv2d_41[\u001b[38;5;34m0\u001b[0m][\u001b[38;5;34m0\u001b[0m]            │\n",
       "│ (\u001b[38;5;33mBatchNormalization\u001b[0m)          │                           │                 │                            │\n",
       "├───────────────────────────────┼───────────────────────────┼─────────────────┼────────────────────────────┤\n",
       "│ conv2d_40 (\u001b[38;5;33mConv2D\u001b[0m)            │ (\u001b[38;5;45mNone\u001b[0m, \u001b[38;5;34m8\u001b[0m, \u001b[38;5;34m8\u001b[0m, \u001b[38;5;34m256\u001b[0m)         │          \u001b[38;5;34m65,792\u001b[0m │ batch_normalization_26[\u001b[38;5;34m0\u001b[0m]… │\n",
       "├───────────────────────────────┼───────────────────────────┼─────────────────┼────────────────────────────┤\n",
       "│ add_13 (\u001b[38;5;33mAdd\u001b[0m)                  │ (\u001b[38;5;45mNone\u001b[0m, \u001b[38;5;34m8\u001b[0m, \u001b[38;5;34m8\u001b[0m, \u001b[38;5;34m256\u001b[0m)         │               \u001b[38;5;34m0\u001b[0m │ batch_normalization_27[\u001b[38;5;34m0\u001b[0m]… │\n",
       "│                               │                           │                 │ conv2d_40[\u001b[38;5;34m0\u001b[0m][\u001b[38;5;34m0\u001b[0m]            │\n",
       "├───────────────────────────────┼───────────────────────────┼─────────────────┼────────────────────────────┤\n",
       "│ activation_13 (\u001b[38;5;33mActivation\u001b[0m)    │ (\u001b[38;5;45mNone\u001b[0m, \u001b[38;5;34m8\u001b[0m, \u001b[38;5;34m8\u001b[0m, \u001b[38;5;34m256\u001b[0m)         │               \u001b[38;5;34m0\u001b[0m │ add_13[\u001b[38;5;34m0\u001b[0m][\u001b[38;5;34m0\u001b[0m]               │\n",
       "├───────────────────────────────┼───────────────────────────┼─────────────────┼────────────────────────────┤\n",
       "│ dropout_21 (\u001b[38;5;33mDropout\u001b[0m)          │ (\u001b[38;5;45mNone\u001b[0m, \u001b[38;5;34m8\u001b[0m, \u001b[38;5;34m8\u001b[0m, \u001b[38;5;34m256\u001b[0m)         │               \u001b[38;5;34m0\u001b[0m │ activation_13[\u001b[38;5;34m0\u001b[0m][\u001b[38;5;34m0\u001b[0m]        │\n",
       "├───────────────────────────────┼───────────────────────────┼─────────────────┼────────────────────────────┤\n",
       "│ conv2d_42 (\u001b[38;5;33mConv2D\u001b[0m)            │ (\u001b[38;5;45mNone\u001b[0m, \u001b[38;5;34m8\u001b[0m, \u001b[38;5;34m8\u001b[0m, \u001b[38;5;34m512\u001b[0m)         │       \u001b[38;5;34m1,180,160\u001b[0m │ dropout_21[\u001b[38;5;34m0\u001b[0m][\u001b[38;5;34m0\u001b[0m]           │\n",
       "├───────────────────────────────┼───────────────────────────┼─────────────────┼────────────────────────────┤\n",
       "│ batch_normalization_28        │ (\u001b[38;5;45mNone\u001b[0m, \u001b[38;5;34m8\u001b[0m, \u001b[38;5;34m8\u001b[0m, \u001b[38;5;34m512\u001b[0m)         │           \u001b[38;5;34m2,048\u001b[0m │ conv2d_42[\u001b[38;5;34m0\u001b[0m][\u001b[38;5;34m0\u001b[0m]            │\n",
       "│ (\u001b[38;5;33mBatchNormalization\u001b[0m)          │                           │                 │                            │\n",
       "├───────────────────────────────┼───────────────────────────┼─────────────────┼────────────────────────────┤\n",
       "│ conv2d_44 (\u001b[38;5;33mConv2D\u001b[0m)            │ (\u001b[38;5;45mNone\u001b[0m, \u001b[38;5;34m8\u001b[0m, \u001b[38;5;34m8\u001b[0m, \u001b[38;5;34m512\u001b[0m)         │       \u001b[38;5;34m2,359,808\u001b[0m │ batch_normalization_28[\u001b[38;5;34m0\u001b[0m]… │\n",
       "├───────────────────────────────┼───────────────────────────┼─────────────────┼────────────────────────────┤\n",
       "│ batch_normalization_29        │ (\u001b[38;5;45mNone\u001b[0m, \u001b[38;5;34m8\u001b[0m, \u001b[38;5;34m8\u001b[0m, \u001b[38;5;34m512\u001b[0m)         │           \u001b[38;5;34m2,048\u001b[0m │ conv2d_44[\u001b[38;5;34m0\u001b[0m][\u001b[38;5;34m0\u001b[0m]            │\n",
       "│ (\u001b[38;5;33mBatchNormalization\u001b[0m)          │                           │                 │                            │\n",
       "├───────────────────────────────┼───────────────────────────┼─────────────────┼────────────────────────────┤\n",
       "│ conv2d_43 (\u001b[38;5;33mConv2D\u001b[0m)            │ (\u001b[38;5;45mNone\u001b[0m, \u001b[38;5;34m8\u001b[0m, \u001b[38;5;34m8\u001b[0m, \u001b[38;5;34m512\u001b[0m)         │         \u001b[38;5;34m262,656\u001b[0m │ batch_normalization_28[\u001b[38;5;34m0\u001b[0m]… │\n",
       "├───────────────────────────────┼───────────────────────────┼─────────────────┼────────────────────────────┤\n",
       "│ add_14 (\u001b[38;5;33mAdd\u001b[0m)                  │ (\u001b[38;5;45mNone\u001b[0m, \u001b[38;5;34m8\u001b[0m, \u001b[38;5;34m8\u001b[0m, \u001b[38;5;34m512\u001b[0m)         │               \u001b[38;5;34m0\u001b[0m │ batch_normalization_29[\u001b[38;5;34m0\u001b[0m]… │\n",
       "│                               │                           │                 │ conv2d_43[\u001b[38;5;34m0\u001b[0m][\u001b[38;5;34m0\u001b[0m]            │\n",
       "├───────────────────────────────┼───────────────────────────┼─────────────────┼────────────────────────────┤\n",
       "│ activation_14 (\u001b[38;5;33mActivation\u001b[0m)    │ (\u001b[38;5;45mNone\u001b[0m, \u001b[38;5;34m8\u001b[0m, \u001b[38;5;34m8\u001b[0m, \u001b[38;5;34m512\u001b[0m)         │               \u001b[38;5;34m0\u001b[0m │ add_14[\u001b[38;5;34m0\u001b[0m][\u001b[38;5;34m0\u001b[0m]               │\n",
       "├───────────────────────────────┼───────────────────────────┼─────────────────┼────────────────────────────┤\n",
       "│ global_average_pooling2d_4    │ (\u001b[38;5;45mNone\u001b[0m, \u001b[38;5;34m512\u001b[0m)               │               \u001b[38;5;34m0\u001b[0m │ activation_14[\u001b[38;5;34m0\u001b[0m][\u001b[38;5;34m0\u001b[0m]        │\n",
       "│ (\u001b[38;5;33mGlobalAveragePooling2D\u001b[0m)      │                           │                 │                            │\n",
       "├───────────────────────────────┼───────────────────────────┼─────────────────┼────────────────────────────┤\n",
       "│ dropout_22 (\u001b[38;5;33mDropout\u001b[0m)          │ (\u001b[38;5;45mNone\u001b[0m, \u001b[38;5;34m512\u001b[0m)               │               \u001b[38;5;34m0\u001b[0m │ global_average_pooling2d_… │\n",
       "├───────────────────────────────┼───────────────────────────┼─────────────────┼────────────────────────────┤\n",
       "│ dense_8 (\u001b[38;5;33mDense\u001b[0m)               │ (\u001b[38;5;45mNone\u001b[0m, \u001b[38;5;34m1024\u001b[0m)              │         \u001b[38;5;34m525,312\u001b[0m │ dropout_22[\u001b[38;5;34m0\u001b[0m][\u001b[38;5;34m0\u001b[0m]           │\n",
       "├───────────────────────────────┼───────────────────────────┼─────────────────┼────────────────────────────┤\n",
       "│ dropout_23 (\u001b[38;5;33mDropout\u001b[0m)          │ (\u001b[38;5;45mNone\u001b[0m, \u001b[38;5;34m1024\u001b[0m)              │               \u001b[38;5;34m0\u001b[0m │ dense_8[\u001b[38;5;34m0\u001b[0m][\u001b[38;5;34m0\u001b[0m]              │\n",
       "├───────────────────────────────┼───────────────────────────┼─────────────────┼────────────────────────────┤\n",
       "│ dense_9 (\u001b[38;5;33mDense\u001b[0m)               │ (\u001b[38;5;45mNone\u001b[0m, \u001b[38;5;34m512\u001b[0m)               │         \u001b[38;5;34m524,800\u001b[0m │ dropout_23[\u001b[38;5;34m0\u001b[0m][\u001b[38;5;34m0\u001b[0m]           │\n",
       "├───────────────────────────────┼───────────────────────────┼─────────────────┼────────────────────────────┤\n",
       "│ dropout_24 (\u001b[38;5;33mDropout\u001b[0m)          │ (\u001b[38;5;45mNone\u001b[0m, \u001b[38;5;34m512\u001b[0m)               │               \u001b[38;5;34m0\u001b[0m │ dense_9[\u001b[38;5;34m0\u001b[0m][\u001b[38;5;34m0\u001b[0m]              │\n",
       "├───────────────────────────────┼───────────────────────────┼─────────────────┼────────────────────────────┤\n",
       "│ eval_output (\u001b[38;5;33mDense\u001b[0m)           │ (\u001b[38;5;45mNone\u001b[0m, \u001b[38;5;34m1\u001b[0m)                 │             \u001b[38;5;34m513\u001b[0m │ dropout_24[\u001b[38;5;34m0\u001b[0m][\u001b[38;5;34m0\u001b[0m]           │\n",
       "└───────────────────────────────┴───────────────────────────┴─────────────────┴────────────────────────────┘\n"
      ]
     },
     "metadata": {},
     "output_type": "display_data"
    },
    {
     "data": {
      "text/html": [
       "<pre style=\"white-space:pre;overflow-x:auto;line-height:normal;font-family:Menlo,'DejaVu Sans Mono',consolas,'Courier New',monospace\"><span style=\"font-weight: bold\"> Total params: </span><span style=\"color: #00af00; text-decoration-color: #00af00\">5,997,569</span> (22.88 MB)\n",
       "</pre>\n"
      ],
      "text/plain": [
       "\u001b[1m Total params: \u001b[0m\u001b[38;5;34m5,997,569\u001b[0m (22.88 MB)\n"
      ]
     },
     "metadata": {},
     "output_type": "display_data"
    },
    {
     "data": {
      "text/html": [
       "<pre style=\"white-space:pre;overflow-x:auto;line-height:normal;font-family:Menlo,'DejaVu Sans Mono',consolas,'Courier New',monospace\"><span style=\"font-weight: bold\"> Trainable params: </span><span style=\"color: #00af00; text-decoration-color: #00af00\">5,993,985</span> (22.87 MB)\n",
       "</pre>\n"
      ],
      "text/plain": [
       "\u001b[1m Trainable params: \u001b[0m\u001b[38;5;34m5,993,985\u001b[0m (22.87 MB)\n"
      ]
     },
     "metadata": {},
     "output_type": "display_data"
    },
    {
     "data": {
      "text/html": [
       "<pre style=\"white-space:pre;overflow-x:auto;line-height:normal;font-family:Menlo,'DejaVu Sans Mono',consolas,'Courier New',monospace\"><span style=\"font-weight: bold\"> Non-trainable params: </span><span style=\"color: #00af00; text-decoration-color: #00af00\">3,584</span> (14.00 KB)\n",
       "</pre>\n"
      ],
      "text/plain": [
       "\u001b[1m Non-trainable params: \u001b[0m\u001b[38;5;34m3,584\u001b[0m (14.00 KB)\n"
      ]
     },
     "metadata": {},
     "output_type": "display_data"
    }
   ],
   "source": [
    "import tensorflow as tf\n",
    "from tensorflow.keras import layers, models\n",
    "from tensorflow.keras.regularizers import l2\n",
    "\n",
    "def create_eval_cnn(input_shape):\n",
    "    \"\"\"\n",
    "    Creates a CNN model for predicting the evaluation of a chess position.\n",
    "\n",
    "    Args:\n",
    "        input_shape (tuple): Shape of the input board (e.g., (8, 8, 19)).\n",
    "\n",
    "    Returns:\n",
    "        tf.keras.Model: Compiled Keras model for evaluating chess positions.\n",
    "    \"\"\"\n",
    "    board_input = layers.Input(shape=input_shape, name='board_input')\n",
    "\n",
    "    # Block 1\n",
    "    x = layers.Conv2D(128, kernel_size=(3, 3), activation='relu', padding='same')(board_input)\n",
    "    x = layers.BatchNormalization()(x)\n",
    "    residual = layers.Conv2D(128, kernel_size=(1, 1), padding='same')(x)\n",
    "    x = layers.Conv2D(128, kernel_size=(3, 3), activation='relu', padding='same', kernel_regularizer=l2(0.01))(x)\n",
    "    x = layers.BatchNormalization()(x)\n",
    "    x = layers.add([x, residual])\n",
    "    x = layers.Activation('relu')(x)\n",
    "    x = layers.Dropout(0.3)(x)\n",
    "\n",
    "    # Block 2\n",
    "    x = layers.Conv2D(256, kernel_size=(3, 3), activation='relu', padding='same', kernel_regularizer=l2(0.01))(x)\n",
    "    x = layers.BatchNormalization()(x)\n",
    "    residual = layers.Conv2D(256, kernel_size=(1, 1), padding='same')(x)\n",
    "    x = layers.Conv2D(256, kernel_size=(3, 3), activation='relu', padding='same')(x)\n",
    "    x = layers.BatchNormalization()(x)\n",
    "    x = layers.add([x, residual])\n",
    "    x = layers.Activation('relu')(x)\n",
    "    x = layers.Dropout(0.3)(x)\n",
    "\n",
    "    # Block 3\n",
    "    x = layers.Conv2D(512, kernel_size=(3, 3), activation='relu', padding='same', kernel_regularizer=l2(0.01))(x)\n",
    "    x = layers.BatchNormalization()(x)\n",
    "    residual = layers.Conv2D(512, kernel_size=(1, 1), padding='same')(x)\n",
    "    x = layers.Conv2D(512, kernel_size=(3, 3), activation='relu', padding='same')(x)\n",
    "    x = layers.BatchNormalization()(x)\n",
    "    x = layers.add([x, residual])\n",
    "    x = layers.Activation('relu')(x)\n",
    "    x = layers.GlobalAveragePooling2D()(x)  # GAP for better regularization\n",
    "    x = layers.Dropout(0.5)(x)\n",
    "\n",
    "    # Fully Connected Layers\n",
    "    x = layers.Dense(1024, activation='relu', kernel_regularizer=l2(0.01))(x)\n",
    "    x = layers.Dropout(0.5)(x)\n",
    "    x = layers.Dense(512, activation='relu', kernel_regularizer=l2(0.01))(x)\n",
    "    x = layers.Dropout(0.5)(x)\n",
    "\n",
    "    # Output: Evaluation Score\n",
    "    eval_output = layers.Dense(1, activation='linear', name='eval_output')(x)  # Single output for eval score\n",
    "\n",
    "    # Model\n",
    "    model = models.Model(inputs=board_input, outputs=[eval_output], name='Eval_CNN')\n",
    "\n",
    "    return model\n",
    "\n",
    "# Example usage\n",
    "BOARD_SHAPE = (8, 8, 19)  # Input shape for the board\n",
    "\n",
    "eval_cnn = create_eval_cnn(input_shape=BOARD_SHAPE)\n",
    "eval_cnn.compile(\n",
    "    optimizer=tf.keras.optimizers.Adam(learning_rate=0.001),\n",
    "    loss='mean_squared_error',  # Regression loss for evaluation score\n",
    "    metrics=['mae']  # Mean Absolute Error for evaluation of regression performance\n",
    ")\n",
    "\n",
    "# Callbacks for Training\n",
    "early_stopping = tf.keras.callbacks.EarlyStopping(monitor='val_loss', patience=10, restore_best_weights=True)\n",
    "reduce_lr = tf.keras.callbacks.ReduceLROnPlateau(monitor='val_loss', factor=0.5, patience=5)\n",
    "\n",
    "# Summary\n",
    "eval_cnn.summary()\n"
   ]
  },
  {
   "cell_type": "code",
   "execution_count": 89,
   "id": "81145ba3-fe6a-49e9-9d10-eedde4c50d23",
   "metadata": {},
   "outputs": [],
   "source": [
    "chess_model2 = create_chess_cnn()"
   ]
  },
  {
   "cell_type": "code",
   "execution_count": 93,
   "id": "a894dbef-8445-4585-8403-f7c35ac90cc7",
   "metadata": {},
   "outputs": [],
   "source": [
    "chess_model2.compile(\n",
    "    optimizer='adam',\n",
    "    loss={\n",
    "        'move_output': 'categorical_crossentropy',\n",
    "        \n",
    "    },\n",
    "    metrics={\n",
    "        'move_output': 'accuracy',\n",
    "        \n",
    "    }\n",
    ")\n"
   ]
  },
  {
   "cell_type": "code",
   "execution_count": 17,
   "id": "3c0cd566-57e4-4dbf-80b7-87550f78e1c9",
   "metadata": {
    "scrolled": true
   },
   "outputs": [
    {
     "name": "stdout",
     "output_type": "stream",
     "text": [
      "Collecting sklearn\n",
      "  Downloading sklearn-0.0.post12.tar.gz (2.6 kB)\n",
      "  Preparing metadata (setup.py): started\n",
      "  Preparing metadata (setup.py): finished with status 'error'\n"
     ]
    },
    {
     "name": "stderr",
     "output_type": "stream",
     "text": [
      "  error: subprocess-exited-with-error\n",
      "  \n",
      "  python setup.py egg_info did not run successfully.\n",
      "  exit code: 1\n",
      "  \n",
      "  [15 lines of output]\n",
      "  The 'sklearn' PyPI package is deprecated, use 'scikit-learn'\n",
      "  rather than 'sklearn' for pip commands.\n",
      "  \n",
      "  Here is how to fix this error in the main use cases:\n",
      "  - use 'pip install scikit-learn' rather than 'pip install sklearn'\n",
      "  - replace 'sklearn' by 'scikit-learn' in your pip requirements files\n",
      "    (requirements.txt, setup.py, setup.cfg, Pipfile, etc ...)\n",
      "  - if the 'sklearn' package is used by one of your dependencies,\n",
      "    it would be great if you take some time to track which package uses\n",
      "    'sklearn' instead of 'scikit-learn' and report it to their issue tracker\n",
      "  - as a last resort, set the environment variable\n",
      "    SKLEARN_ALLOW_DEPRECATED_SKLEARN_PACKAGE_INSTALL=True to avoid this error\n",
      "  \n",
      "  More information is available at\n",
      "  https://github.com/scikit-learn/sklearn-pypi-package\n",
      "  [end of output]\n",
      "  \n",
      "  note: This error originates from a subprocess, and is likely not a problem with pip.\n",
      "error: metadata-generation-failed\n",
      "\n",
      "Encountered error while generating package metadata.\n",
      "\n",
      "See above for output.\n",
      "\n",
      "note: This is an issue with the package mentioned above, not pip.\n",
      "hint: See above for details.\n",
      "\n",
      "[notice] A new release of pip is available: 23.2.1 -> 25.0\n",
      "[notice] To update, run: python.exe -m pip install --upgrade pip\n"
     ]
    }
   ],
   "source": [
    "!pip install sklearn"
   ]
  },
  {
   "cell_type": "code",
   "execution_count": 58,
   "id": "e488fd8d-b667-4105-9e9f-aab9ab06076e",
   "metadata": {},
   "outputs": [
    {
     "name": "stdout",
     "output_type": "stream",
     "text": [
      "(28866, 8, 8, 19)\n"
     ]
    }
   ],
   "source": [
    "with h5py.File('D:\\\\Aarti\\\\Dataset\\\\Chess_data_augmented3.h5', 'r') as f:\n",
    "    inputs = np.array(f['augmented_inputs'])\n",
    "    moves = np.array(f['augmented_moves'])\n",
    "    # evals = np.array(f['evals'])\n",
    "print(inputs.shape)"
   ]
  },
  {
   "cell_type": "code",
   "execution_count": 4,
   "id": "f8e6d60e-c25a-45ee-84d8-4cd3624f15f6",
   "metadata": {
    "scrolled": true
   },
   "outputs": [
    {
     "name": "stdout",
     "output_type": "stream",
     "text": [
      "(23068, 8129)\n",
      "(23068, 8, 8, 19)\n",
      "Epoch 1/5\n",
      "\u001b[1m721/721\u001b[0m \u001b[32m━━━━━━━━━━━━━━━━━━━━\u001b[0m\u001b[37m\u001b[0m \u001b[1m409s\u001b[0m 557ms/step - loss: 0.8412 - mae: 0.2997\n",
      "Epoch 2/5\n",
      "\u001b[1m721/721\u001b[0m \u001b[32m━━━━━━━━━━━━━━━━━━━━\u001b[0m\u001b[37m\u001b[0m \u001b[1m397s\u001b[0m 551ms/step - loss: 0.7698 - mae: 0.2841\n",
      "Epoch 3/5\n",
      "\u001b[1m721/721\u001b[0m \u001b[32m━━━━━━━━━━━━━━━━━━━━\u001b[0m\u001b[37m\u001b[0m \u001b[1m368s\u001b[0m 511ms/step - loss: 0.8162 - mae: 0.2925\n",
      "Epoch 4/5\n",
      "\u001b[1m721/721\u001b[0m \u001b[32m━━━━━━━━━━━━━━━━━━━━\u001b[0m\u001b[37m\u001b[0m \u001b[1m380s\u001b[0m 527ms/step - loss: 0.7799 - mae: 0.2899\n",
      "Epoch 5/5\n",
      "\u001b[1m721/721\u001b[0m \u001b[32m━━━━━━━━━━━━━━━━━━━━\u001b[0m\u001b[37m\u001b[0m \u001b[1m381s\u001b[0m 529ms/step - loss: 0.7546 - mae: 0.2832\n"
     ]
    }
   ],
   "source": [
    "import h5py\n",
    "import numpy as np\n",
    "\n",
    "# Load data\n",
    "with h5py.File(r'D:\\Aarti\\Dataset\\Merged_Chess_dataset3.h5', 'r') as f:\n",
    "    inputs = np.array(f['inputs'])\n",
    "    moves = np.array(f['moves'])\n",
    "    evals = np.array(f['evals'])\n",
    "print(moves.shape)\n",
    "print(inputs.shape)\n",
    "# Train the model\n",
    "history =  eval_cnn.fit(\n",
    "    inputs,\n",
    "    evals,\n",
    "    batch_size=32,\n",
    "    epochs=5,\n",
    "  \n",
    ")\n"
   ]
  },
  {
   "cell_type": "code",
   "execution_count": 7,
   "id": "f2c6f4f9-58c3-410e-a07a-c8e1bc555499",
   "metadata": {},
   "outputs": [
    {
     "data": {
      "image/png": "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",
      "text/plain": [
       "<Figure size 1200x600 with 2 Axes>"
      ]
     },
     "metadata": {},
     "output_type": "display_data"
    }
   ],
   "source": [
    "import matplotlib.pyplot as plt\n",
    "\n",
    "def plot_training_history(history):\n",
    "    plt.figure(figsize=(12, 6))\n",
    "\n",
    "    # Plot move_output accuracy\n",
    "    plt.subplot(1, 2, 1)\n",
    "    plt.plot(history.history['loss'], label='Loss')\n",
    "    plt.title('Training loss')\n",
    "    plt.xlabel('Epochs')\n",
    "    plt.ylabel('loss')\n",
    "    plt.legend()\n",
    "\n",
    "    # Plot eval_output loss\n",
    "    plt.subplot(1, 2, 2)\n",
    "    plt.plot(history.history['mae'], label=' mea')\n",
    "    plt.title('Evaluation Output mea')\n",
    "    plt.xlabel('Epochs')\n",
    "    plt.ylabel('MAE ' )\n",
    "    plt.legend()\n",
    "\n",
    "    plt.tight_layout()\n",
    "    plt.show()\n",
    "\n",
    "# Example usage\n",
    "plot_training_history(history)\n"
   ]
  },
  {
   "cell_type": "code",
   "execution_count": 12,
   "id": "49e0d139-e4a1-4865-a22e-2dfb058ecd71",
   "metadata": {},
   "outputs": [],
   "source": [
    "# Save the model\n",
    "aarti_v3.save('aarti_v3.keras')"
   ]
  },
  {
   "cell_type": "code",
   "execution_count": null,
   "id": "062617f3-a499-4729-94a0-a843c13a4ce4",
   "metadata": {},
   "outputs": [],
   "source": []
  }
 ],
 "metadata": {
  "kernelspec": {
   "display_name": "Python 3 (ipykernel)",
   "language": "python",
   "name": "python3"
  },
  "language_info": {
   "codemirror_mode": {
    "name": "ipython",
    "version": 3
   },
   "file_extension": ".py",
   "mimetype": "text/x-python",
   "name": "python",
   "nbconvert_exporter": "python",
   "pygments_lexer": "ipython3",
   "version": "3.12.0"
  }
 },
 "nbformat": 4,
 "nbformat_minor": 5
}
#I am Mitali. 
